{
  "nbformat": 4,
  "nbformat_minor": 0,
  "metadata": {
    "colab": {
      "name": "TextSimilarity.ipynb",
      "version": "0.3.2",
      "provenance": [],
      "collapsed_sections": [],
      "toc_visible": true
    },
    "kernelspec": {
      "name": "python3",
      "display_name": "Python 3"
    },
    "accelerator": "GPU"
  },
  "cells": [
    {
      "cell_type": "markdown",
      "metadata": {
        "id": "5juk2Ps2y8mN",
        "colab_type": "text"
      },
      "source": [
        "## 预训练词嵌入"
      ]
    },
    {
      "cell_type": "code",
      "metadata": {
        "id": "wNHD1X2Z0gWS",
        "colab_type": "code",
        "colab": {
          "base_uri": "https://localhost:8080/",
          "height": 214
        },
        "outputId": "fb1263ff-98c7-4d52-c088-1d8b844b5a66"
      },
      "source": [
        "!wget https://deeplearning4jblob.blob.core.windows.net/resources/wordvectors/GoogleNews-vectors-negative300.bin.gz\n",
        "!gzip -d GoogleNews-vectors-negative300.bin.gz"
      ],
      "execution_count": 1,
      "outputs": [
        {
          "output_type": "stream",
          "text": [
            "--2019-07-29 13:01:29--  https://deeplearning4jblob.blob.core.windows.net/resources/wordvectors/GoogleNews-vectors-negative300.bin.gz\n",
            "Resolving deeplearning4jblob.blob.core.windows.net (deeplearning4jblob.blob.core.windows.net)... 13.66.176.16\n",
            "Connecting to deeplearning4jblob.blob.core.windows.net (deeplearning4jblob.blob.core.windows.net)|13.66.176.16|:443... connected.\n",
            "HTTP request sent, awaiting response... 200 OK\n",
            "Length: 1647046227 (1.5G) [application/octet-stream]\n",
            "Saving to: ‘GoogleNews-vectors-negative300.bin.gz’\n",
            "\n",
            "GoogleNews-vectors- 100%[===================>]   1.53G  19.0MB/s    in 85s     \n",
            "\n",
            "2019-07-29 13:02:55 (18.6 MB/s) - ‘GoogleNews-vectors-negative300.bin.gz’ saved [1647046227/1647046227]\n",
            "\n"
          ],
          "name": "stdout"
        }
      ]
    },
    {
      "cell_type": "code",
      "metadata": {
        "id": "bVLsPdCU1JVN",
        "colab_type": "code",
        "colab": {}
      },
      "source": [
        "import gensim\n",
        "import warnings\n",
        "warnings.filterwarnings('ignore')"
      ],
      "execution_count": 0,
      "outputs": []
    },
    {
      "cell_type": "code",
      "metadata": {
        "id": "LpsUt1s_1NLJ",
        "colab_type": "code",
        "colab": {}
      },
      "source": [
        "model = gensim.models.KeyedVectors.load_word2vec_format('GoogleNews-vectors-negative300.bin', binary=True)"
      ],
      "execution_count": 0,
      "outputs": []
    },
    {
      "cell_type": "code",
      "metadata": {
        "id": "pRvr0DO51QkL",
        "colab_type": "code",
        "colab": {
          "base_uri": "https://localhost:8080/",
          "height": 196
        },
        "outputId": "9cc21bfb-ecad-4a6c-902d-d91a9f041e34"
      },
      "source": [
        "model.most_similar(positive=['beijing'])"
      ],
      "execution_count": 4,
      "outputs": [
        {
          "output_type": "execute_result",
          "data": {
            "text/plain": [
              "[('chinese', 0.5550055503845215),\n",
              " ('thailand', 0.5427266359329224),\n",
              " ('uk', 0.5208765864372253),\n",
              " ('hong_kong', 0.5170697569847107),\n",
              " ('poland', 0.5152227878570557),\n",
              " ('guo', 0.5151727199554443),\n",
              " ('london', 0.5148689150810242),\n",
              " ('olympics', 0.5135477185249329),\n",
              " ('hina', 0.5130335688591003),\n",
              " ('cn', 0.511055588722229)]"
            ]
          },
          "metadata": {
            "tags": []
          },
          "execution_count": 4
        }
      ]
    },
    {
      "cell_type": "markdown",
      "metadata": {
        "id": "lYXjAbp16Wn4",
        "colab_type": "text"
      },
      "source": [
        "## word2vec数学特性"
      ]
    },
    {
      "cell_type": "code",
      "metadata": {
        "id": "SPI-UGMH6ZmU",
        "colab_type": "code",
        "colab": {}
      },
      "source": [
        "def A_is_to_B_as_C_is_to_which(a, b, c, topn=1, model=None):\n",
        "    a, b, c = map(lambda x:x if type(x) == list else [x], (a, b, c))  # 封装为list\n",
        "    res = model.most_similar(positive=b + c, negative=a, topn=topn)\n",
        "    if len(res):\n",
        "        if topn == 1:\n",
        "            return res[0][0]\n",
        "        else:\n",
        "            return [x[0] for x in res]\n",
        "    return None"
      ],
      "execution_count": 0,
      "outputs": []
    },
    {
      "cell_type": "code",
      "metadata": {
        "id": "taaV8EA76fBD",
        "colab_type": "code",
        "colab": {
          "base_uri": "https://localhost:8080/",
          "height": 35
        },
        "outputId": "328a2a1d-29f9-4703-9517-ce4554bfd0d8"
      },
      "source": [
        "A_is_to_B_as_C_is_to_which('son', 'king', 'daughter', 1, model)"
      ],
      "execution_count": 6,
      "outputs": [
        {
          "output_type": "execute_result",
          "data": {
            "text/plain": [
              "'queen'"
            ]
          },
          "metadata": {
            "tags": []
          },
          "execution_count": 6
        }
      ]
    },
    {
      "cell_type": "markdown",
      "metadata": {
        "id": "4NlfEfGF8Mi-",
        "colab_type": "text"
      },
      "source": [
        "## 可视化词嵌入"
      ]
    },
    {
      "cell_type": "code",
      "metadata": {
        "id": "sLlfpDT68Pdv",
        "colab_type": "code",
        "colab": {}
      },
      "source": [
        "import gensim\n",
        "import warnings\n",
        "import numpy as np\n",
        "from sklearn.manifold import TSNE\n",
        "import matplotlib.pyplot as plt\n",
        "warnings.filterwarnings('ignore')"
      ],
      "execution_count": 0,
      "outputs": []
    },
    {
      "cell_type": "code",
      "metadata": {
        "id": "o-GSCXb_8Q-J",
        "colab_type": "code",
        "colab": {}
      },
      "source": [
        "beverages = ['espresso', 'beer', 'vodka', 'wine', 'cola', 'tea']\n",
        "countries = ['Italy', 'Germany', 'Russia', 'France', 'USA', 'India']\n",
        "sports = ['soccer', 'handball', 'hockey', 'cycling', 'basketball', 'cricket']\n",
        "\n",
        "items = beverages + countries + sports\n",
        "item_vectors = [(item, model[item]) for item in items if item in model]"
      ],
      "execution_count": 0,
      "outputs": []
    },
    {
      "cell_type": "code",
      "metadata": {
        "id": "NUFeW7M68Zi6",
        "colab_type": "code",
        "colab": {
          "base_uri": "https://localhost:8080/",
          "height": 519
        },
        "outputId": "25276b05-a4aa-4910-f120-0bf55e9f7d09"
      },
      "source": [
        "vectors = np.asarray([x[1] for x in item_vectors])\n",
        "lengths = np.linalg.norm(vectors, axis=1)\n",
        "norm_vectors = (vectors.T / lengths).T\n",
        "tsne = TSNE(n_components=2, perplexity=10, verbose=2).fit_transform(norm_vectors)"
      ],
      "execution_count": 9,
      "outputs": [
        {
          "output_type": "stream",
          "text": [
            "[t-SNE] Computing 17 nearest neighbors...\n",
            "[t-SNE] Indexed 18 samples in 0.000s...\n",
            "[t-SNE] Computed neighbors for 18 samples in 0.020s...\n",
            "[t-SNE] Computed conditional probabilities for sample 18 / 18\n",
            "[t-SNE] Mean sigma: 0.581543\n",
            "[t-SNE] Computed conditional probabilities in 0.019s\n",
            "[t-SNE] Iteration 50: error = 63.0791779, gradient norm = 0.1129648 (50 iterations in 0.007s)\n",
            "[t-SNE] Iteration 100: error = 63.6702271, gradient norm = 0.1475802 (50 iterations in 0.006s)\n",
            "[t-SNE] Iteration 150: error = 70.2805023, gradient norm = 0.7903392 (50 iterations in 0.006s)\n",
            "[t-SNE] Iteration 200: error = 69.5625076, gradient norm = 0.3285413 (50 iterations in 0.006s)\n",
            "[t-SNE] Iteration 250: error = 59.5166168, gradient norm = 0.0520608 (50 iterations in 0.006s)\n",
            "[t-SNE] KL divergence after 250 iterations with early exaggeration: 59.516617\n",
            "[t-SNE] Iteration 300: error = 0.9665199, gradient norm = 0.0008885 (50 iterations in 0.006s)\n",
            "[t-SNE] Iteration 350: error = 0.6862286, gradient norm = 0.0005132 (50 iterations in 0.007s)\n",
            "[t-SNE] Iteration 400: error = 0.5575872, gradient norm = 0.0005460 (50 iterations in 0.006s)\n",
            "[t-SNE] Iteration 450: error = 0.3381270, gradient norm = 0.0004773 (50 iterations in 0.005s)\n",
            "[t-SNE] Iteration 500: error = 0.3030157, gradient norm = 0.0001309 (50 iterations in 0.006s)\n",
            "[t-SNE] Iteration 550: error = 0.2951724, gradient norm = 0.0001068 (50 iterations in 0.007s)\n",
            "[t-SNE] Iteration 600: error = 0.2715477, gradient norm = 0.0002313 (50 iterations in 0.006s)\n",
            "[t-SNE] Iteration 650: error = 0.1392771, gradient norm = 0.0003217 (50 iterations in 0.006s)\n",
            "[t-SNE] Iteration 700: error = 0.1277525, gradient norm = 0.0000978 (50 iterations in 0.006s)\n",
            "[t-SNE] Iteration 750: error = 0.1224134, gradient norm = 0.0000749 (50 iterations in 0.006s)\n",
            "[t-SNE] Iteration 800: error = 0.1161509, gradient norm = 0.0000633 (50 iterations in 0.007s)\n",
            "[t-SNE] Iteration 850: error = 0.1105983, gradient norm = 0.0000500 (50 iterations in 0.006s)\n",
            "[t-SNE] Iteration 900: error = 0.1066633, gradient norm = 0.0000403 (50 iterations in 0.006s)\n",
            "[t-SNE] Iteration 950: error = 0.1030475, gradient norm = 0.0000329 (50 iterations in 0.006s)\n",
            "[t-SNE] Iteration 1000: error = 0.1000263, gradient norm = 0.0000274 (50 iterations in 0.006s)\n",
            "[t-SNE] KL divergence after 1000 iterations: 0.100026\n"
          ],
          "name": "stdout"
        }
      ]
    },
    {
      "cell_type": "code",
      "metadata": {
        "id": "vfZXyFKC8dHF",
        "colab_type": "code",
        "colab": {
          "base_uri": "https://localhost:8080/",
          "height": 287
        },
        "outputId": "9d326dc9-95bc-4006-df0e-c0580a6f7756"
      },
      "source": [
        "x=tsne[:,0]\n",
        "y=tsne[:,1]\n",
        "plt.figure(figsize=(16, 8))\n",
        "fig, ax = plt.subplots()\n",
        "ax.scatter(x, y)\n",
        "\n",
        "for item, x1, y1 in zip(item_vectors, x, y):\n",
        "    ax.annotate(item[0], (x1, y1), size=14)\n",
        "\n",
        "plt.show()"
      ],
      "execution_count": 10,
      "outputs": [
        {
          "output_type": "display_data",
          "data": {
            "text/plain": [
              "<Figure size 1152x576 with 0 Axes>"
            ]
          },
          "metadata": {
            "tags": []
          }
        },
        {
          "output_type": "display_data",
          "data": {
            "image/png": "[encoded data removed]",
            "text/plain": [
              "<Figure size 432x288 with 1 Axes>"
            ]
          },
          "metadata": {
            "tags": []
          }
        }
      ]
    },
    {
      "cell_type": "markdown",
      "metadata": {
        "id": "RSUTHEH_9u9Q",
        "colab_type": "text"
      },
      "source": [
        "## 发现实体类"
      ]
    },
    {
      "cell_type": "code",
      "metadata": {
        "id": "rwzf0BTd-Hqd",
        "colab_type": "code",
        "colab": {}
      },
      "source": [
        "import gensim\n",
        "import csv\n",
        "import warnings\n",
        "import random\n",
        "warnings.filterwarnings('ignore')"
      ],
      "execution_count": 0,
      "outputs": []
    },
    {
      "cell_type": "code",
      "metadata": {
        "id": "JjeC_Gcl9xil",
        "colab_type": "code",
        "colab": {
          "base_uri": "https://localhost:8080/",
          "height": 196
        },
        "outputId": "fa023e95-f816-4f26-a007-c8ec21849579"
      },
      "source": [
        "model.most_similar(positive=['Germany'])"
      ],
      "execution_count": 11,
      "outputs": [
        {
          "output_type": "execute_result",
          "data": {
            "text/plain": [
              "[('Austria', 0.7461062669754028),\n",
              " ('German', 0.7178750038146973),\n",
              " ('Germans', 0.6628648042678833),\n",
              " ('Switzerland', 0.6506868004798889),\n",
              " ('Hungary', 0.6504982709884644),\n",
              " ('Germnay', 0.649348258972168),\n",
              " ('Netherlands', 0.6437495946884155),\n",
              " ('Cologne', 0.6430779695510864),\n",
              " ('symbol_RSTI', 0.6389946937561035),\n",
              " ('Annita_Kirsten', 0.634294867515564)]"
            ]
          },
          "metadata": {
            "tags": []
          },
          "execution_count": 11
        }
      ]
    },
    {
      "cell_type": "code",
      "metadata": {
        "id": "OTTji2bF-FFG",
        "colab_type": "code",
        "colab": {}
      },
      "source": [
        "countries = list(csv.DictReader(open('data/countries.csv')))"
      ],
      "execution_count": 0,
      "outputs": []
    },
    {
      "cell_type": "code",
      "metadata": {
        "id": "erDO7Bvg-MI1",
        "colab_type": "code",
        "colab": {
          "base_uri": "https://localhost:8080/",
          "height": 35
        },
        "outputId": "def2044a-3171-40a8-d90b-ad27717bcfdf"
      },
      "source": [
        "positive = [x['name'] for x in random.sample(countries, 40)]\n",
        "negative = random.sample(model.vocab.keys(), 5000)\n",
        "negative[:4]"
      ],
      "execution_count": 18,
      "outputs": [
        {
          "output_type": "execute_result",
          "data": {
            "text/plain": [
              "['StreamBase_CEP', 'Bruce_Wigo', 'stepper_motor', 'pate_de_verre']"
            ]
          },
          "metadata": {
            "tags": []
          },
          "execution_count": 18
        }
      ]
    },
    {
      "cell_type": "code",
      "metadata": {
        "id": "paHH-lnn-OTa",
        "colab_type": "code",
        "colab": {
          "base_uri": "https://localhost:8080/",
          "height": 35
        },
        "outputId": "6fa096ac-5611-4b79-b195-1b1e7a5decdf"
      },
      "source": [
        "labelled = [(p, 1) for p in positive] + [(n, 0) for n in negative]\n",
        "random.shuffle(labelled)\n",
        "X = np.asarray([model[w] for w, l in labelled])\n",
        "y = np.asarray([l for w, l in labelled])\n",
        "X.shape, y.shape"
      ],
      "execution_count": 19,
      "outputs": [
        {
          "output_type": "execute_result",
          "data": {
            "text/plain": [
              "((5040, 300), (5040,))"
            ]
          },
          "metadata": {
            "tags": []
          },
          "execution_count": 19
        }
      ]
    },
    {
      "cell_type": "code",
      "metadata": {
        "id": "A6nSnpcb-O2j",
        "colab_type": "code",
        "colab": {
          "base_uri": "https://localhost:8080/",
          "height": 89
        },
        "outputId": "625c5976-77c2-4677-ff73-4129257a532f"
      },
      "source": [
        "from sklearn import svm\n",
        "TRAINING_FRACTION = 0.3\n",
        "cut_off = int(TRAINING_FRACTION * len(labelled))\n",
        "clf = svm.SVC(kernel='linear')\n",
        "clf.fit(X[:cut_off], y[:cut_off]) "
      ],
      "execution_count": 20,
      "outputs": [
        {
          "output_type": "execute_result",
          "data": {
            "text/plain": [
              "SVC(C=1.0, cache_size=200, class_weight=None, coef0=0.0,\n",
              "    decision_function_shape='ovr', degree=3, gamma='auto_deprecated',\n",
              "    kernel='linear', max_iter=-1, probability=False, random_state=None,\n",
              "    shrinking=True, tol=0.001, verbose=False)"
            ]
          },
          "metadata": {
            "tags": []
          },
          "execution_count": 20
        }
      ]
    },
    {
      "cell_type": "code",
      "metadata": {
        "id": "bwlgZDL1-SCV",
        "colab_type": "code",
        "colab": {
          "base_uri": "https://localhost:8080/",
          "height": 214
        },
        "outputId": "ae8fe49e-13ef-41e1-de8f-265c0db0274c"
      },
      "source": [
        "res = clf.predict(X[cut_off:])\n",
        "\n",
        "missed = [country for (pred, truth, country) in \n",
        " zip(res, y[cut_off:], labelled[cut_off:]) if pred != truth]\n",
        "\n",
        "100 - 100 * float(len(missed)) / len(res), missed"
      ],
      "execution_count": 21,
      "outputs": [
        {
          "output_type": "execute_result",
          "data": {
            "text/plain": [
              "(99.71655328798185,\n",
              " [('Rwanda', 0),\n",
              "  ('Gaza_Strip', 1),\n",
              "  ('Reunion', 1),\n",
              "  ('Vatican', 1),\n",
              "  ('Mongolia', 1),\n",
              "  ('Jordan', 1),\n",
              "  ('Israel', 1),\n",
              "  ('Argentina', 1),\n",
              "  ('Aruba', 1),\n",
              "  ('Cuba', 0)])"
            ]
          },
          "metadata": {
            "tags": []
          },
          "execution_count": 21
        }
      ]
    },
    {
      "cell_type": "code",
      "metadata": {
        "id": "WqgbzN4a-UV7",
        "colab_type": "code",
        "colab": {}
      },
      "source": [
        "all_predictions = clf.predict(model.syn0)"
      ],
      "execution_count": 0,
      "outputs": []
    },
    {
      "cell_type": "code",
      "metadata": {
        "id": "mapyNYCt-Uxq",
        "colab_type": "code",
        "colab": {}
      },
      "source": [
        "res = []\n",
        "for word, pred in zip(model.index2word, all_predictions):\n",
        "    if pred:\n",
        "        res.append(word)\n",
        "        if len(res) == 150:\n",
        "            break\n",
        "random.sample(res, 10)"
      ],
      "execution_count": 0,
      "outputs": []
    },
    {
      "cell_type": "markdown",
      "metadata": {
        "id": "jGRWkW06-WvJ",
        "colab_type": "text"
      },
      "source": [
        "## 类内部语义距离"
      ]
    },
    {
      "cell_type": "code",
      "metadata": {
        "id": "6JDclnWF-qn1",
        "colab_type": "code",
        "colab": {}
      },
      "source": [
        "import gensim\n",
        "import csv\n",
        "import warnings\n",
        "import random\n",
        "import numpy as np\n",
        "warnings.filterwarnings('ignore')"
      ],
      "execution_count": 0,
      "outputs": []
    },
    {
      "cell_type": "code",
      "metadata": {
        "id": "MFIVtiLB-5BX",
        "colab_type": "code",
        "colab": {}
      },
      "source": [
        "countries = list(csv.DictReader(open('data/countries.csv')))"
      ],
      "execution_count": 0,
      "outputs": []
    },
    {
      "cell_type": "code",
      "metadata": {
        "id": "4tnjbWX8-8Tm",
        "colab_type": "code",
        "colab": {}
      },
      "source": [
        "country_to_idx = {country['name']: idx for idx, country in enumerate(countries)}\n",
        "country_vecs = np.asarray([model[c['name']] for c in countries])"
      ],
      "execution_count": 0,
      "outputs": []
    },
    {
      "cell_type": "code",
      "metadata": {
        "id": "LzXDiadM---y",
        "colab_type": "code",
        "colab": {}
      },
      "source": [
        "def rank_countries(term, topn=10, field='name'):\n",
        "    if not term in model:\n",
        "        return []\n",
        "    vec = model[term]\n",
        "    dists = np.dot(country_vecs, vec)\n",
        "    return [(countries[idx][field], float(dists[idx])) \n",
        "            for idx in reversed(np.argsort(dists)[-topn:])]"
      ],
      "execution_count": 0,
      "outputs": []
    },
    {
      "cell_type": "code",
      "metadata": {
        "id": "1comNgMo_B8X",
        "colab_type": "code",
        "colab": {
          "base_uri": "https://localhost:8080/",
          "height": 196
        },
        "outputId": "039cfcbd-c28b-4b1a-c027-7a93205496c0"
      },
      "source": [
        "rank_countries('cricket')"
      ],
      "execution_count": 26,
      "outputs": [
        {
          "output_type": "execute_result",
          "data": {
            "text/plain": [
              "[('Sri_Lanka', 5.92276668548584),\n",
              " ('Zimbabwe', 5.336524963378906),\n",
              " ('Bangladesh', 5.192489147186279),\n",
              " ('Pakistan', 4.948408126831055),\n",
              " ('Guyana', 3.9162838459014893),\n",
              " ('Barbados', 3.757995128631592),\n",
              " ('India', 3.7504398822784424),\n",
              " ('South_Africa', 3.6561501026153564),\n",
              " ('New_Zealand', 3.642028570175171),\n",
              " ('Fiji', 3.608567714691162)]"
            ]
          },
          "metadata": {
            "tags": []
          },
          "execution_count": 26
        }
      ]
    },
    {
      "cell_type": "markdown",
      "metadata": {
        "id": "WwY_yoCt_sdt",
        "colab_type": "text"
      },
      "source": [
        "## 可视化国家数据"
      ]
    },
    {
      "cell_type": "code",
      "metadata": {
        "id": "k8xdc6H3_w76",
        "colab_type": "code",
        "colab": {}
      },
      "source": [
        "!pip install geopandas"
      ],
      "execution_count": 0,
      "outputs": []
    },
    {
      "cell_type": "code",
      "metadata": {
        "id": "vN9NeXwp_uYF",
        "colab_type": "code",
        "colab": {}
      },
      "source": [
        "import gensim\n",
        "import csv\n",
        "import warnings\n",
        "import random\n",
        "import numpy as np\n",
        "import geopandas as gpd\n",
        "warnings.filterwarnings('ignore')"
      ],
      "execution_count": 0,
      "outputs": []
    },
    {
      "cell_type": "code",
      "metadata": {
        "id": "9ev1Wt9U_5sZ",
        "colab_type": "code",
        "colab": {}
      },
      "source": [
        "countries = list(csv.DictReader(open('data/countries.csv')))"
      ],
      "execution_count": 0,
      "outputs": []
    },
    {
      "cell_type": "code",
      "metadata": {
        "id": "D3eKwKbd__oE",
        "colab_type": "code",
        "colab": {}
      },
      "source": [
        "country_to_idx = {country['name']: idx for idx, country in enumerate(countries)}\n",
        "country_vecs = np.asarray([model[c['name']] for c in countries])"
      ],
      "execution_count": 0,
      "outputs": []
    },
    {
      "cell_type": "code",
      "metadata": {
        "id": "oabYuxbnACXg",
        "colab_type": "code",
        "colab": {}
      },
      "source": [
        "world = gpd.read_file(gpd.datasets.get_path('naturalearth_lowres'))"
      ],
      "execution_count": 0,
      "outputs": []
    },
    {
      "cell_type": "code",
      "metadata": {
        "id": "pYjmeaAeAEWS",
        "colab_type": "code",
        "colab": {}
      },
      "source": [
        "def rank_countries(term, topn=10, field='name'):\n",
        "    if not term in model:\n",
        "        return []\n",
        "    vec = model[term]\n",
        "    dists = np.dot(country_vecs, vec)\n",
        "    return [(countries[idx][field], float(dists[idx])) \n",
        "            for idx in reversed(np.argsort(dists)[-topn:])]"
      ],
      "execution_count": 0,
      "outputs": []
    },
    {
      "cell_type": "code",
      "metadata": {
        "id": "SlfelVS5AFDy",
        "colab_type": "code",
        "colab": {
          "base_uri": "https://localhost:8080/",
          "height": 310
        },
        "outputId": "44e2a96d-5a82-4cca-8143-f2b302b8fa10"
      },
      "source": [
        "import matplotlib.pyplot as plt\n",
        "from IPython.core.pylabtools import figsize\n",
        "%matplotlib inline\n",
        "figsize(12, 8)\n",
        "def map_term(term):\n",
        "    d = {k.upper(): v for k, v in rank_countries(term, topn=0, field='cc3')}\n",
        "    world[term] = world['iso_a3'].map(d)\n",
        "    world[term] /= world[term].max()\n",
        "    world.dropna().plot(term, cmap='OrRd')\n",
        "\n",
        "map_term('coffee')"
      ],
      "execution_count": 35,
      "outputs": [
        {
          "output_type": "display_data",
          "data": {
            "image/png": "[encoded data removed]",
            "text/plain": [
              "<Figure size 864x576 with 1 Axes>"
            ]
          },
          "metadata": {
            "tags": []
          }
        }
      ]
    }
  ]
}